{
  "nbformat": 4,
  "nbformat_minor": 0,
  "metadata": {
    "colab": {
      "name": "Two-class classification (credit_card).ipynb",
      "provenance": [],
      "authorship_tag": "ABX9TyPeS2ugUQ9dRL+peMkVYRk5",
      "include_colab_link": true
    },
    "kernelspec": {
      "display_name": "Python 3",
      "name": "python3"
    }
  },
  "cells": [
    {
      "cell_type": "markdown",
      "metadata": {
        "id": "view-in-github",
        "colab_type": "text"
      },
      "source": [
        "<a href=\"https://colab.research.google.com/github/JeyuChou/Leo_Columbia_hw2/blob/main/Two_class_classification_(credit_card).ipynb\" target=\"_parent\"><img src=\"https://colab.research.google.com/assets/colab-badge.svg\" alt=\"Open In Colab\"/></a>"
      ]
    },
    {
      "cell_type": "code",
      "metadata": {
        "colab": {
          "base_uri": "https://localhost:8080/"
        },
        "id": "CRBw1LmuKrnc",
        "outputId": "88084c75-e18b-410f-d331-d130d5cf053b"
      },
      "source": [
        "import pandas as pd\n",
        "import numpy as np\n",
        "import os\n",
        "#Deciding to use google colab and google drive for the data as it is quite large...\n",
        "from google.colab import drive\n",
        "drive.mount('/content/drive',force_remount = True)"
      ],
      "execution_count": null,
      "outputs": [
        {
          "output_type": "stream",
          "text": [
            "Mounted at /content/drive\n"
          ],
          "name": "stdout"
        }
      ]
    },
    {
      "cell_type": "code",
      "metadata": {
        "id": "Ys2ign9sK-tb"
      },
      "source": [
        "path = '/content/drive/My Drive/Machine_Learning_Marathon/Data'\n",
        "credit_data = pd.read_csv(os.path.join(path,'creditcard.csv'))"
      ],
      "execution_count": null,
      "outputs": []
    },
    {
      "cell_type": "code",
      "metadata": {
        "colab": {
          "base_uri": "https://localhost:8080/"
        },
        "id": "C5wiiLDPLkNx",
        "outputId": "8b3b0c8c-44c9-4d6c-8675-95c488737d86"
      },
      "source": [
        "credit_data.info()"
      ],
      "execution_count": null,
      "outputs": [
        {
          "output_type": "stream",
          "text": [
            "<class 'pandas.core.frame.DataFrame'>\n",
            "RangeIndex: 284807 entries, 0 to 284806\n",
            "Data columns (total 31 columns):\n",
            " #   Column  Non-Null Count   Dtype  \n",
            "---  ------  --------------   -----  \n",
            " 0   Time    284807 non-null  float64\n",
            " 1   V1      284807 non-null  float64\n",
            " 2   V2      284807 non-null  float64\n",
            " 3   V3      284807 non-null  float64\n",
            " 4   V4      284807 non-null  float64\n",
            " 5   V5      284807 non-null  float64\n",
            " 6   V6      284807 non-null  float64\n",
            " 7   V7      284807 non-null  float64\n",
            " 8   V8      284807 non-null  float64\n",
            " 9   V9      284807 non-null  float64\n",
            " 10  V10     284807 non-null  float64\n",
            " 11  V11     284807 non-null  float64\n",
            " 12  V12     284807 non-null  float64\n",
            " 13  V13     284807 non-null  float64\n",
            " 14  V14     284807 non-null  float64\n",
            " 15  V15     284807 non-null  float64\n",
            " 16  V16     284807 non-null  float64\n",
            " 17  V17     284807 non-null  float64\n",
            " 18  V18     284807 non-null  float64\n",
            " 19  V19     284807 non-null  float64\n",
            " 20  V20     284807 non-null  float64\n",
            " 21  V21     284807 non-null  float64\n",
            " 22  V22     284807 non-null  float64\n",
            " 23  V23     284807 non-null  float64\n",
            " 24  V24     284807 non-null  float64\n",
            " 25  V25     284807 non-null  float64\n",
            " 26  V26     284807 non-null  float64\n",
            " 27  V27     284807 non-null  float64\n",
            " 28  V28     284807 non-null  float64\n",
            " 29  Amount  284807 non-null  float64\n",
            " 30  Class   284807 non-null  int64  \n",
            "dtypes: float64(30), int64(1)\n",
            "memory usage: 67.4 MB\n"
          ],
          "name": "stdout"
        }
      ]
    },
    {
      "cell_type": "code",
      "metadata": {
        "id": "BvzmAknpLXKg"
      },
      "source": [
        "classes = credit_data.pop('Class')"
      ],
      "execution_count": null,
      "outputs": []
    },
    {
      "cell_type": "code",
      "metadata": {
        "colab": {
          "base_uri": "https://localhost:8080/"
        },
        "id": "koRnOrUYHiMW",
        "outputId": "42e50eca-7cff-41a1-81ac-e0604067724e"
      },
      "source": [
        "#EDA --> trying to get a sense of how imbalanced the data is \n",
        "zeroes = 0\n",
        "ones = 0\n",
        "for a in classes:\n",
        "  if a == 0:\n",
        "    zeroes += 1\n",
        "  else:\n",
        "    ones +=1 \n",
        "\n",
        "print(zeroes)\n",
        "print(ones)\n",
        "print(f'the percentage of zero to one is {ones/zeroes * 100}')"
      ],
      "execution_count": null,
      "outputs": [
        {
          "output_type": "stream",
          "text": [
            "284315\n",
            "492\n",
            "the percentage of zero to one is 0.17304750013189596\n"
          ],
          "name": "stdout"
        }
      ]
    },
    {
      "cell_type": "code",
      "metadata": {
        "id": "bBpShc7yL2wM"
      },
      "source": [
        "from sklearn.model_selection import train_test_split\n",
        "from sklearn.dummy import DummyClassifier"
      ],
      "execution_count": null,
      "outputs": []
    },
    {
      "cell_type": "code",
      "metadata": {
        "id": "cYjucf7iLoAE"
      },
      "source": [
        "x_train,x_test,y_train,y_test = train_test_split(credit_data,classes,random_state = 42,stratify=classes) #stratifying as there is an inbalance in data"
      ],
      "execution_count": null,
      "outputs": []
    },
    {
      "cell_type": "code",
      "metadata": {
        "colab": {
          "base_uri": "https://localhost:8080/"
        },
        "id": "NKVMLGhGMYcV",
        "outputId": "fc8b3289-f538-4bc1-fa78-447048f57903"
      },
      "source": [
        "#For reference, here is the dummy classifier by scikit learn\n",
        "d_clf = DummyClassifier(constant=0,random_state=42)\n",
        "d_clf.fit(x_train,y_train)"
      ],
      "execution_count": null,
      "outputs": [
        {
          "output_type": "stream",
          "text": [
            "/usr/local/lib/python3.6/dist-packages/sklearn/dummy.py:132: FutureWarning: The default value of strategy will change from stratified to prior in 0.24.\n",
            "  \"stratified to prior in 0.24.\", FutureWarning)\n"
          ],
          "name": "stderr"
        },
        {
          "output_type": "execute_result",
          "data": {
            "text/plain": [
              "DummyClassifier(constant=0, random_state=42, strategy='warn')"
            ]
          },
          "metadata": {
            "tags": []
          },
          "execution_count": 7
        }
      ]
    },
    {
      "cell_type": "code",
      "metadata": {
        "colab": {
          "base_uri": "https://localhost:8080/"
        },
        "id": "99eBg9enNUQk",
        "outputId": "495d42aa-a99e-4280-aeb6-2478a78fdedb"
      },
      "source": [
        "baseline = d_clf.predict(x_test)\n",
        "print(len(baseline))"
      ],
      "execution_count": null,
      "outputs": [
        {
          "output_type": "stream",
          "text": [
            "71202\n"
          ],
          "name": "stdout"
        }
      ]
    },
    {
      "cell_type": "code",
      "metadata": {
        "id": "eHJn8RcsNopq"
      },
      "source": [
        "for a in pred:\n",
        "  print(a)"
      ],
      "execution_count": null,
      "outputs": []
    },
    {
      "cell_type": "code",
      "metadata": {
        "colab": {
          "base_uri": "https://localhost:8080/"
        },
        "id": "wd22Ch72m6Sl",
        "outputId": "b83267f9-a22d-4fa1-f27f-4ddda6c692c5"
      },
      "source": [
        "print('hello world')"
      ],
      "execution_count": null,
      "outputs": [
        {
          "output_type": "stream",
          "text": [
            "hello world\n"
          ],
          "name": "stdout"
        }
      ]
    },
    {
      "cell_type": "code",
      "metadata": {
        "id": "WQUEJNR8wjca"
      },
      "source": [
        "from sklearn.pipeline import make_pipeline\n",
        "from sklearn.preprocessing import StandardScaler\n",
        "from sklearn.svm import SVC\n",
        "from sklearn.model_selection import cross_validate\n",
        "from sklearn.metrics import precision_score \n",
        "from sklearn.metrics import recall_score"
      ],
      "execution_count": 32,
      "outputs": []
    },
    {
      "cell_type": "code",
      "metadata": {
        "colab": {
          "background_save": true
        },
        "id": "1wk0-0pjGVp0"
      },
      "source": [
        "clf = make_pipeline(StandardScaler(), SVC(gamma='scale'))\n",
        "clf.fit(x_train,y_train)\n",
        "scores = cross_validate(clf,x_train,y_train,scoring=('precision','recall'),cv=10,verbose=0,return_train_score=True,return_estimator=True)\n",
        "\n"
      ],
      "execution_count": null,
      "outputs": []
    },
    {
      "cell_type": "code",
      "metadata": {
        "colab": {
          "background_save": true
        },
        "id": "JeSfHtW3T9gP"
      },
      "source": [
        "import pickle as pkl"
      ],
      "execution_count": null,
      "outputs": []
    },
    {
      "cell_type": "code",
      "metadata": {
        "colab": {
          "background_save": true
        },
        "id": "MTZyx5Lou5fK"
      },
      "source": [
        "svc_scores_files = open('/content/drive/My Drive/svc_scores.pkl','wb')\n",
        "pkl.dump(scores,svc_scores_files)\n",
        "svc_scores_files.close()"
      ],
      "execution_count": null,
      "outputs": []
    },
    {
      "cell_type": "code",
      "metadata": {
        "colab": {
          "base_uri": "https://localhost:8080/"
        },
        "id": "h4Kv58crwKBp",
        "outputId": "39fbf9d0-e6f2-4aeb-b744-622fcd581ec3"
      },
      "source": [
        "precision_score(y_test,clf.predict(x_test))\n"
      ],
      "execution_count": 35,
      "outputs": [
        {
          "output_type": "execute_result",
          "data": {
            "text/plain": [
              "0.9625"
            ]
          },
          "metadata": {
            "tags": []
          },
          "execution_count": 35
        }
      ]
    },
    {
      "cell_type": "code",
      "metadata": {
        "id": "3UnzW4gMYNtF",
        "colab": {
          "base_uri": "https://localhost:8080/"
        },
        "outputId": "c9a0816e-7075-4d43-9999-e234a64b5278"
      },
      "source": [
        "recall_score(y_test,clf.predict(x_test))"
      ],
      "execution_count": 36,
      "outputs": [
        {
          "output_type": "execute_result",
          "data": {
            "text/plain": [
              "0.6260162601626016"
            ]
          },
          "metadata": {
            "tags": []
          },
          "execution_count": 36
        }
      ]
    },
    {
      "cell_type": "code",
      "metadata": {
        "id": "ldzjBroky0pC"
      },
      "source": [
        "zeroes = 0\n",
        "ones = 1\n",
        "for a in clf.predict(x_test):\n",
        "  if a == 0:\n",
        "    zeroes += 1\n",
        "  else:\n",
        "    ones += 1\n",
        "    "
      ],
      "execution_count": 37,
      "outputs": []
    },
    {
      "cell_type": "code",
      "metadata": {
        "colab": {
          "base_uri": "https://localhost:8080/"
        },
        "id": "1hKeJbA8zpPp",
        "outputId": "c32cdb97-03f0-4647-d5cf-d0ab20f51e39"
      },
      "source": [
        "zeroes"
      ],
      "execution_count": 38,
      "outputs": [
        {
          "output_type": "execute_result",
          "data": {
            "text/plain": [
              "71122"
            ]
          },
          "metadata": {
            "tags": []
          },
          "execution_count": 38
        }
      ]
    },
    {
      "cell_type": "code",
      "metadata": {
        "colab": {
          "base_uri": "https://localhost:8080/"
        },
        "id": "p0aoUrObzp2H",
        "outputId": "20d9ccf5-bb04-4a0f-c6ad-d8d40d2a76ce"
      },
      "source": [
        "ones"
      ],
      "execution_count": 39,
      "outputs": [
        {
          "output_type": "execute_result",
          "data": {
            "text/plain": [
              "81"
            ]
          },
          "metadata": {
            "tags": []
          },
          "execution_count": 39
        }
      ]
    },
    {
      "cell_type": "code",
      "metadata": {
        "colab": {
          "base_uri": "https://localhost:8080/"
        },
        "id": "2m_z_W8NzqpA",
        "outputId": "26e2e5f2-2fe9-4fd8-9acb-d7da329f0f3d"
      },
      "source": [
        "true_zero = 0\n",
        "true_one = 0\n",
        "for a in y_test:\n",
        "  if a == 0:\n",
        "    true_zero += 1\n",
        "  else:\n",
        "    true_one += 1\n",
        "    \n",
        "print(true_zero)\n",
        "print(true_one)   "
      ],
      "execution_count": 44,
      "outputs": [
        {
          "output_type": "stream",
          "text": [
            "71079\n",
            "123\n"
          ],
          "name": "stdout"
        }
      ]
    },
    {
      "cell_type": "code",
      "metadata": {
        "id": "8DCQz8Coz0DV"
      },
      "source": [
        ""
      ],
      "execution_count": null,
      "outputs": []
    }
  ]
}